{
 "cells": [
  {
   "cell_type": "markdown",
   "id": "cdf12f4e",
   "metadata": {},
   "source": [
    "# Craft Beers Analysis\n",
    "\n",
    "This notebook contains data exploration and preparation steps for the Craft Beers dataset merged from `beers.csv` and `breweries.csv`."
   ]
  },
  {
   "cell_type": "code",
   "execution_count": 3,
   "id": "4dabecdd",
   "metadata": {},
   "outputs": [
    {
     "data": {
      "text/html": [
       "<div>\n",
       "<style scoped>\n",
       "    .dataframe tbody tr th:only-of-type {\n",
       "        vertical-align: middle;\n",
       "    }\n",
       "\n",
       "    .dataframe tbody tr th {\n",
       "        vertical-align: top;\n",
       "    }\n",
       "\n",
       "    .dataframe thead th {\n",
       "        text-align: right;\n",
       "    }\n",
       "</style>\n",
       "<table border=\"1\" class=\"dataframe\">\n",
       "  <thead>\n",
       "    <tr style=\"text-align: right;\">\n",
       "      <th></th>\n",
       "      <th>abv</th>\n",
       "      <th>ibu</th>\n",
       "      <th>id</th>\n",
       "      <th>name</th>\n",
       "      <th>style</th>\n",
       "      <th>brewery_id</th>\n",
       "      <th>ounces</th>\n",
       "      <th>brewery_name</th>\n",
       "      <th>city</th>\n",
       "      <th>state</th>\n",
       "      <th>abv_percent</th>\n",
       "      <th>abv_category</th>\n",
       "    </tr>\n",
       "  </thead>\n",
       "  <tbody>\n",
       "    <tr>\n",
       "      <th>0</th>\n",
       "      <td>0.050</td>\n",
       "      <td>NaN</td>\n",
       "      <td>1436</td>\n",
       "      <td>Pub Beer</td>\n",
       "      <td>American Pale Lager</td>\n",
       "      <td>408</td>\n",
       "      <td>12.0</td>\n",
       "      <td>10 Barrel Brewing Company</td>\n",
       "      <td>Bend</td>\n",
       "      <td>OR</td>\n",
       "      <td>5.0</td>\n",
       "      <td>Medium</td>\n",
       "    </tr>\n",
       "    <tr>\n",
       "      <th>1</th>\n",
       "      <td>0.066</td>\n",
       "      <td>NaN</td>\n",
       "      <td>2265</td>\n",
       "      <td>Devil's Cup</td>\n",
       "      <td>American Pale Ale (APA)</td>\n",
       "      <td>177</td>\n",
       "      <td>12.0</td>\n",
       "      <td>18th Street Brewery</td>\n",
       "      <td>Gary</td>\n",
       "      <td>IN</td>\n",
       "      <td>6.6</td>\n",
       "      <td>High</td>\n",
       "    </tr>\n",
       "    <tr>\n",
       "      <th>2</th>\n",
       "      <td>0.071</td>\n",
       "      <td>NaN</td>\n",
       "      <td>2264</td>\n",
       "      <td>Rise of the Phoenix</td>\n",
       "      <td>American IPA</td>\n",
       "      <td>177</td>\n",
       "      <td>12.0</td>\n",
       "      <td>18th Street Brewery</td>\n",
       "      <td>Gary</td>\n",
       "      <td>IN</td>\n",
       "      <td>7.1</td>\n",
       "      <td>High</td>\n",
       "    </tr>\n",
       "    <tr>\n",
       "      <th>3</th>\n",
       "      <td>0.090</td>\n",
       "      <td>NaN</td>\n",
       "      <td>2263</td>\n",
       "      <td>Sinister</td>\n",
       "      <td>American Double / Imperial IPA</td>\n",
       "      <td>177</td>\n",
       "      <td>12.0</td>\n",
       "      <td>18th Street Brewery</td>\n",
       "      <td>Gary</td>\n",
       "      <td>IN</td>\n",
       "      <td>9.0</td>\n",
       "      <td>High</td>\n",
       "    </tr>\n",
       "    <tr>\n",
       "      <th>4</th>\n",
       "      <td>0.075</td>\n",
       "      <td>NaN</td>\n",
       "      <td>2262</td>\n",
       "      <td>Sex and Candy</td>\n",
       "      <td>American IPA</td>\n",
       "      <td>177</td>\n",
       "      <td>12.0</td>\n",
       "      <td>18th Street Brewery</td>\n",
       "      <td>Gary</td>\n",
       "      <td>IN</td>\n",
       "      <td>7.5</td>\n",
       "      <td>High</td>\n",
       "    </tr>\n",
       "  </tbody>\n",
       "</table>\n",
       "</div>"
      ],
      "text/plain": [
       "     abv  ibu    id                 name                           style  \\\n",
       "0  0.050  NaN  1436             Pub Beer             American Pale Lager   \n",
       "1  0.066  NaN  2265          Devil's Cup         American Pale Ale (APA)   \n",
       "2  0.071  NaN  2264  Rise of the Phoenix                    American IPA   \n",
       "3  0.090  NaN  2263             Sinister  American Double / Imperial IPA   \n",
       "4  0.075  NaN  2262        Sex and Candy                    American IPA   \n",
       "\n",
       "   brewery_id  ounces               brewery_name  city state  abv_percent  \\\n",
       "0         408    12.0  10 Barrel Brewing Company  Bend    OR          5.0   \n",
       "1         177    12.0        18th Street Brewery  Gary    IN          6.6   \n",
       "2         177    12.0        18th Street Brewery  Gary    IN          7.1   \n",
       "3         177    12.0        18th Street Brewery  Gary    IN          9.0   \n",
       "4         177    12.0        18th Street Brewery  Gary    IN          7.5   \n",
       "\n",
       "  abv_category  \n",
       "0       Medium  \n",
       "1         High  \n",
       "2         High  \n",
       "3         High  \n",
       "4         High  "
      ]
     },
     "execution_count": 3,
     "metadata": {},
     "output_type": "execute_result"
    }
   ],
   "source": [
    "import pandas as pd\n",
    "import matplotlib.pyplot as plt\n",
    "\n",
    "# Load the merged dataset\n",
    "df = pd.read_csv('craft_beers_dataset.csv')\n",
    "df.head()"
   ]
  },
  {
   "cell_type": "code",
   "execution_count": 4,
   "id": "f0bd4dcb",
   "metadata": {},
   "outputs": [
    {
     "name": "stdout",
     "output_type": "stream",
     "text": [
      "<class 'pandas.core.frame.DataFrame'>\n",
      "RangeIndex: 2410 entries, 0 to 2409\n",
      "Data columns (total 12 columns):\n",
      " #   Column        Non-Null Count  Dtype  \n",
      "---  ------        --------------  -----  \n",
      " 0   abv           2348 non-null   float64\n",
      " 1   ibu           1405 non-null   float64\n",
      " 2   id            2410 non-null   int64  \n",
      " 3   name          2410 non-null   object \n",
      " 4   style         2405 non-null   object \n",
      " 5   brewery_id    2410 non-null   int64  \n",
      " 6   ounces        2410 non-null   float64\n",
      " 7   brewery_name  2410 non-null   object \n",
      " 8   city          2410 non-null   object \n",
      " 9   state         2410 non-null   object \n",
      " 10  abv_percent   2348 non-null   float64\n",
      " 11  abv_category  2410 non-null   object \n",
      "dtypes: float64(4), int64(2), object(6)\n",
      "memory usage: 226.1+ KB\n"
     ]
    }
   ],
   "source": [
    "# Overview of dataset\n",
    "df.info()"
   ]
  },
  {
   "cell_type": "code",
   "execution_count": 5,
   "id": "36e7f3dd",
   "metadata": {},
   "outputs": [
    {
     "data": {
      "text/html": [
       "<div>\n",
       "<style scoped>\n",
       "    .dataframe tbody tr th:only-of-type {\n",
       "        vertical-align: middle;\n",
       "    }\n",
       "\n",
       "    .dataframe tbody tr th {\n",
       "        vertical-align: top;\n",
       "    }\n",
       "\n",
       "    .dataframe thead th {\n",
       "        text-align: right;\n",
       "    }\n",
       "</style>\n",
       "<table border=\"1\" class=\"dataframe\">\n",
       "  <thead>\n",
       "    <tr style=\"text-align: right;\">\n",
       "      <th></th>\n",
       "      <th>abv</th>\n",
       "      <th>ibu</th>\n",
       "      <th>id</th>\n",
       "      <th>brewery_id</th>\n",
       "      <th>ounces</th>\n",
       "      <th>abv_percent</th>\n",
       "    </tr>\n",
       "  </thead>\n",
       "  <tbody>\n",
       "    <tr>\n",
       "      <th>count</th>\n",
       "      <td>2348.000000</td>\n",
       "      <td>1405.000000</td>\n",
       "      <td>2410.000000</td>\n",
       "      <td>2410.000000</td>\n",
       "      <td>2410.000000</td>\n",
       "      <td>2348.000000</td>\n",
       "    </tr>\n",
       "    <tr>\n",
       "      <th>mean</th>\n",
       "      <td>0.059773</td>\n",
       "      <td>42.713167</td>\n",
       "      <td>1431.113278</td>\n",
       "      <td>231.749793</td>\n",
       "      <td>13.592241</td>\n",
       "      <td>5.977342</td>\n",
       "    </tr>\n",
       "    <tr>\n",
       "      <th>std</th>\n",
       "      <td>0.013542</td>\n",
       "      <td>25.954066</td>\n",
       "      <td>752.459975</td>\n",
       "      <td>157.685604</td>\n",
       "      <td>2.352204</td>\n",
       "      <td>1.354173</td>\n",
       "    </tr>\n",
       "    <tr>\n",
       "      <th>min</th>\n",
       "      <td>0.001000</td>\n",
       "      <td>4.000000</td>\n",
       "      <td>1.000000</td>\n",
       "      <td>0.000000</td>\n",
       "      <td>8.400000</td>\n",
       "      <td>0.100000</td>\n",
       "    </tr>\n",
       "    <tr>\n",
       "      <th>25%</th>\n",
       "      <td>0.050000</td>\n",
       "      <td>21.000000</td>\n",
       "      <td>808.250000</td>\n",
       "      <td>93.000000</td>\n",
       "      <td>12.000000</td>\n",
       "      <td>5.000000</td>\n",
       "    </tr>\n",
       "    <tr>\n",
       "      <th>50%</th>\n",
       "      <td>0.056000</td>\n",
       "      <td>35.000000</td>\n",
       "      <td>1453.500000</td>\n",
       "      <td>205.000000</td>\n",
       "      <td>12.000000</td>\n",
       "      <td>5.600000</td>\n",
       "    </tr>\n",
       "    <tr>\n",
       "      <th>75%</th>\n",
       "      <td>0.067000</td>\n",
       "      <td>64.000000</td>\n",
       "      <td>2075.750000</td>\n",
       "      <td>366.000000</td>\n",
       "      <td>16.000000</td>\n",
       "      <td>6.700000</td>\n",
       "    </tr>\n",
       "    <tr>\n",
       "      <th>max</th>\n",
       "      <td>0.128000</td>\n",
       "      <td>138.000000</td>\n",
       "      <td>2692.000000</td>\n",
       "      <td>557.000000</td>\n",
       "      <td>32.000000</td>\n",
       "      <td>12.800000</td>\n",
       "    </tr>\n",
       "  </tbody>\n",
       "</table>\n",
       "</div>"
      ],
      "text/plain": [
       "               abv          ibu           id   brewery_id       ounces  \\\n",
       "count  2348.000000  1405.000000  2410.000000  2410.000000  2410.000000   \n",
       "mean      0.059773    42.713167  1431.113278   231.749793    13.592241   \n",
       "std       0.013542    25.954066   752.459975   157.685604     2.352204   \n",
       "min       0.001000     4.000000     1.000000     0.000000     8.400000   \n",
       "25%       0.050000    21.000000   808.250000    93.000000    12.000000   \n",
       "50%       0.056000    35.000000  1453.500000   205.000000    12.000000   \n",
       "75%       0.067000    64.000000  2075.750000   366.000000    16.000000   \n",
       "max       0.128000   138.000000  2692.000000   557.000000    32.000000   \n",
       "\n",
       "       abv_percent  \n",
       "count  2348.000000  \n",
       "mean      5.977342  \n",
       "std       1.354173  \n",
       "min       0.100000  \n",
       "25%       5.000000  \n",
       "50%       5.600000  \n",
       "75%       6.700000  \n",
       "max      12.800000  "
      ]
     },
     "execution_count": 5,
     "metadata": {},
     "output_type": "execute_result"
    }
   ],
   "source": [
    "# Summary statistics\n",
    "df.describe()"
   ]
  },
  {
   "cell_type": "code",
   "execution_count": 6,
   "id": "4feed1c6",
   "metadata": {},
   "outputs": [
    {
     "data": {
      "text/plain": [
       "abv               62\n",
       "ibu             1005\n",
       "id                 0\n",
       "name               0\n",
       "style              5\n",
       "brewery_id         0\n",
       "ounces             0\n",
       "brewery_name       0\n",
       "city               0\n",
       "state              0\n",
       "abv_percent       62\n",
       "abv_category       0\n",
       "dtype: int64"
      ]
     },
     "execution_count": 6,
     "metadata": {},
     "output_type": "execute_result"
    }
   ],
   "source": [
    "# Check for missing values\n",
    "df.isna().sum()"
   ]
  },
  {
   "cell_type": "code",
   "execution_count": 7,
   "id": "294df159",
   "metadata": {},
   "outputs": [],
   "source": [
    "# Drop rows with missing target variable (abv_percent)\n",
    "df_clean = df.dropna(subset=['abv_percent'])"
   ]
  },
  {
   "cell_type": "code",
   "execution_count": 8,
   "id": "a812b5f1",
   "metadata": {},
   "outputs": [
    {
     "data": {
      "image/png": "[encoded data removed]",
      "text/plain": [
       "<Figure size 1000x600 with 1 Axes>"
      ]
     },
     "metadata": {},
     "output_type": "display_data"
    }
   ],
   "source": [
    "# Histogram of ABV Percent\n",
    "plt.figure(figsize=(10, 6))\n",
    "plt.hist(df_clean['abv_percent'], bins=30, edgecolor='black')\n",
    "plt.title('Distribution of ABV Percent')\n",
    "plt.xlabel('ABV Percent')\n",
    "plt.ylabel('Frequency')\n",
    "plt.grid(True)\n",
    "plt.tight_layout()\n",
    "plt.show()"
   ]
  },
  {
   "cell_type": "markdown",
   "id": "ba8b0d4a",
   "metadata": {},
   "source": [
    "## Next Steps\n",
    "- Explore other feature distributions (e.g., IBU, SRM)\n",
    "- Consider transformations for right-skewed features\n",
    "- Begin feature selection and modeling prep"
   ]
  },
  {
   "cell_type": "markdown",
   "id": "33bfa308",
   "metadata": {},
   "source": [
    "## Target Variable: `abv_percent`\n",
    "\n",
    "In this section, we focus on the target variable **`abv_percent`**, which represents the alcohol by volume percentage of each beer."
   ]
  },
  {
   "cell_type": "code",
   "execution_count": 9,
   "id": "d3c664dc",
   "metadata": {},
   "outputs": [
    {
     "data": {
      "image/png": "[encoded data removed]",
      "text/plain": [
       "<Figure size 1000x600 with 1 Axes>"
      ]
     },
     "metadata": {},
     "output_type": "display_data"
    }
   ],
   "source": [
    "# Histogram of ABV Percent (Target Variable Y)\n",
    "plt.figure(figsize=(10, 6))\n",
    "plt.hist(df_clean['abv_percent'], bins=30, edgecolor='black')\n",
    "plt.title('Histogram of ABV Percent (Target Variable Y)')\n",
    "plt.xlabel('ABV Percent')\n",
    "plt.ylabel('Frequency')\n",
    "plt.grid(True)\n",
    "plt.tight_layout()\n",
    "plt.show()"
   ]
  },
  {
   "cell_type": "code",
   "execution_count": 13,
   "id": "c800971a",
   "metadata": {},
   "outputs": [],
   "source": [
    "df_clean.loc[:, 'ibu'] = df_clean.groupby('style')['ibu'].transform(lambda x: x.fillna(x.mean()))\n"
   ]
  },
  {
   "cell_type": "code",
   "execution_count": 14,
   "id": "1e38414c",
   "metadata": {},
   "outputs": [
    {
     "data": {
      "image/png": "[encoded data removed]",
      "text/plain": [
       "<Figure size 1000x600 with 1 Axes>"
      ]
     },
     "metadata": {},
     "output_type": "display_data"
    }
   ],
   "source": [
    "# Histogram of ibu (Independent Variable X)\n",
    "plt.figure(figsize=(10, 6))\n",
    "plt.hist(df_clean['ibu'].dropna(), bins=30, edgecolor='black')\n",
    "plt.title('Histogram of IBU (Independent Variable X)')\n",
    "plt.xlabel('IBU')\n",
    "plt.ylabel('Frequency')\n",
    "plt.grid(True)\n",
    "plt.tight_layout()\n",
    "plt.show()\n"
   ]
  },
  {
   "cell_type": "code",
   "execution_count": null,
   "id": "f74d1b8f",
   "metadata": {},
   "outputs": [],
   "source": []
  }
 ],
 "metadata": {
  "language_info": {
   "name": "python"
  }
 },
 "nbformat": 4,
 "nbformat_minor": 5
}
